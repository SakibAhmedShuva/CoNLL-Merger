{
 "cells": [
  {
   "cell_type": "code",
   "execution_count": 2,
   "metadata": {},
   "outputs": [],
   "source": [
    "import os"
   ]
  },
  {
   "cell_type": "code",
   "execution_count": 7,
   "metadata": {},
   "outputs": [
    {
     "name": "stdout",
     "output_type": "stream",
     "text": [
      "Merging complete. Check the output file.\n"
     ]
    }
   ],
   "source": [
    "def merge_conll_files(file1_path, file2_path, output_path):\n",
    "    def write_content(file, out, is_first_file=False):\n",
    "        previous_line_empty = True if is_first_file else False\n",
    "        for line in file:\n",
    "            line = line.rstrip('\\n')\n",
    "            if line.startswith('-DOCSTART-'):\n",
    "                continue\n",
    "            if line or not previous_line_empty:\n",
    "                out.write(line + '\\n')\n",
    "                previous_line_empty = (line == '')\n",
    "\n",
    "    with open(file1_path, 'r', encoding='utf-8') as f1, \\\n",
    "         open(file2_path, 'r', encoding='utf-8') as f2, \\\n",
    "         open(output_path, 'w', encoding='utf-8') as out:\n",
    "        \n",
    "        # Write the -DOCSTART- line with a single empty line after it\n",
    "        out.write('-DOCSTART- -X- O O\\n\\n')\n",
    "        \n",
    "        # Process and write content from both files\n",
    "        write_content(f1, out, is_first_file=True)\n",
    "        write_content(f2, out)\n",
    "\n",
    "# Usage\n",
    "merge_conll_files(r'c:\\Users\\Sakib Ahmed\\Desktop\\dev.conll', \n",
    "                  r'c:\\Users\\Sakib Ahmed\\Desktop\\test.conll', \n",
    "                  r'c:\\Users\\Sakib Ahmed\\Desktop\\merged.conll')\n",
    "\n",
    "print(\"Merging complete. Check the output file.\")"
   ]
  }
 ],
 "metadata": {
  "kernelspec": {
   "display_name": "Python 3",
   "language": "python",
   "name": "python3"
  },
  "language_info": {
   "codemirror_mode": {
    "name": "ipython",
    "version": 3
   },
   "file_extension": ".py",
   "mimetype": "text/x-python",
   "name": "python",
   "nbconvert_exporter": "python",
   "pygments_lexer": "ipython3",
   "version": "3.12.7"
  }
 },
 "nbformat": 4,
 "nbformat_minor": 2
}
